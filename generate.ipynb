{
 "cells": [
  {
   "cell_type": "code",
   "execution_count": null,
   "metadata": {},
   "outputs": [],
   "source": [
    "import numpy as np\n",
    "import copy as cp\n",
    "from math import floor, ceil\n",
    "import io\n",
    "import os\n",
    "import copy"
   ]
  },
  {
   "cell_type": "code",
   "execution_count": null,
   "metadata": {},
   "outputs": [],
   "source": [
    "anchor = \"\"\"<a name=\"%s\"></a><br/><br/><br/>\\n\"\"\"\n",
    "\n",
    "player_map = {\n",
    "  'X': '✖️',\n",
    "  'O': '⭕',\n",
    "  '_': '⬜'\n",
    "}\n",
    "\n",
    "play_again = \"[Care to play again?](#root)\"\n",
    "draw_message = \"Guess we'll call it a draw\"\n",
    "win_message = \"%s wins!!!\"\n",
    "\n",
    "header = \"\"\"\n",
    "<a name=\"top\"></a>\n",
    "I challenge you to a game of Tic-Tac-Toe. \n",
    "Give this page a few seconds to load all the emojis and then click the topmost box to start playing.\n",
    "\n",
    "Xs go first, click one of the nine boxes to make your move.\n",
    "\n",
    "_If for some reason the buttons are not clickable, try reloading the page. Sometimes GitHub can't handle all of the emojis._\n",
    "\n",
    "[Take me to the bottom](#bottom)\n",
    "\n",
    "---\n",
    "\"\"\"\n",
    "\n",
    "footer = \"\"\"\n",
    "\n",
    "---\n",
    "\n",
    "<a name=\"bottom\"></a>\n",
    "[Take me to the top](#top)\n",
    "\"\"\""
   ]
  }
 ],
 "metadata": {
  "language_info": {
   "name": "python"
  }
 },
 "nbformat": 4,
 "nbformat_minor": 2
}
